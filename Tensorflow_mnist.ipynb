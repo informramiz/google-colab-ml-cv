{
  "nbformat": 4,
  "nbformat_minor": 0,
  "metadata": {
    "colab": {
      "name": "Tensorflow-mnist.ipynb",
      "version": "0.3.2",
      "provenance": [],
      "collapsed_sections": [],
      "include_colab_link": true
    },
    "kernelspec": {
      "name": "python3",
      "display_name": "Python 3"
    }
  },
  "cells": [
    {
      "cell_type": "markdown",
      "metadata": {
        "id": "view-in-github",
        "colab_type": "text"
      },
      "source": [
        "<a href=\"https://colab.research.google.com/github/informramiz/google-colab-ml-cv/blob/master/Tensorflow_mnist.ipynb\" target=\"_parent\"><img src=\"https://colab.research.google.com/assets/colab-badge.svg\" alt=\"Open In Colab\"/></a>"
      ]
    },
    {
      "metadata": {
        "id": "6GtOQP3jnHvy",
        "colab_type": "code",
        "colab": {}
      },
      "cell_type": "code",
      "source": [
        "from tensorflow.examples.tutorials.mnist import input_data\n",
        "import tensorflow as tf\n",
        "import numpy as np\n",
        "from sklearn.utils import shuffle\n",
        "from sklearn.model_selection import train_test_split"
      ],
      "execution_count": 0,
      "outputs": []
    },
    {
      "metadata": {
        "id": "6OkkoCQTsRff",
        "colab_type": "code",
        "colab": {
          "base_uri": "https://localhost:8080/",
          "height": 530
        },
        "outputId": "3e69832f-b60d-4cf9-cc93-434bd52a1ea2"
      },
      "cell_type": "code",
      "source": [
        "#image shape in mnist is 28 * 28\n",
        "n_input = 28 * 28\n",
        "#mnist output classes are 10 (0-9 digits)\n",
        "n_classes = 10\n",
        "\n",
        "mnist_data = input_data.read_data_sets('/datasets/ud730/mnist', one_hot=True)"
      ],
      "execution_count": 5,
      "outputs": [
        {
          "output_type": "stream",
          "text": [
            "WARNING:tensorflow:From <ipython-input-5-45401a77db4f>:5: read_data_sets (from tensorflow.contrib.learn.python.learn.datasets.mnist) is deprecated and will be removed in a future version.\n",
            "Instructions for updating:\n",
            "Please use alternatives such as official/mnist/dataset.py from tensorflow/models.\n",
            "WARNING:tensorflow:From /usr/local/lib/python3.6/dist-packages/tensorflow/contrib/learn/python/learn/datasets/mnist.py:260: maybe_download (from tensorflow.contrib.learn.python.learn.datasets.base) is deprecated and will be removed in a future version.\n",
            "Instructions for updating:\n",
            "Please write your own downloading logic.\n",
            "WARNING:tensorflow:From /usr/local/lib/python3.6/dist-packages/tensorflow/contrib/learn/python/learn/datasets/base.py:252: _internal_retry.<locals>.wrap.<locals>.wrapped_fn (from tensorflow.contrib.learn.python.learn.datasets.base) is deprecated and will be removed in a future version.\n",
            "Instructions for updating:\n",
            "Please use urllib or similar directly.\n",
            "Successfully downloaded train-images-idx3-ubyte.gz 9912422 bytes.\n",
            "WARNING:tensorflow:From /usr/local/lib/python3.6/dist-packages/tensorflow/contrib/learn/python/learn/datasets/mnist.py:262: extract_images (from tensorflow.contrib.learn.python.learn.datasets.mnist) is deprecated and will be removed in a future version.\n",
            "Instructions for updating:\n",
            "Please use tf.data to implement this functionality.\n",
            "Extracting /datasets/ud730/mnist/train-images-idx3-ubyte.gz\n",
            "Successfully downloaded train-labels-idx1-ubyte.gz 28881 bytes.\n",
            "WARNING:tensorflow:From /usr/local/lib/python3.6/dist-packages/tensorflow/contrib/learn/python/learn/datasets/mnist.py:267: extract_labels (from tensorflow.contrib.learn.python.learn.datasets.mnist) is deprecated and will be removed in a future version.\n",
            "Instructions for updating:\n",
            "Please use tf.data to implement this functionality.\n",
            "Extracting /datasets/ud730/mnist/train-labels-idx1-ubyte.gz\n",
            "WARNING:tensorflow:From /usr/local/lib/python3.6/dist-packages/tensorflow/contrib/learn/python/learn/datasets/mnist.py:110: dense_to_one_hot (from tensorflow.contrib.learn.python.learn.datasets.mnist) is deprecated and will be removed in a future version.\n",
            "Instructions for updating:\n",
            "Please use tf.one_hot on tensors.\n",
            "Successfully downloaded t10k-images-idx3-ubyte.gz 1648877 bytes.\n",
            "Extracting /datasets/ud730/mnist/t10k-images-idx3-ubyte.gz\n",
            "Successfully downloaded t10k-labels-idx1-ubyte.gz 4542 bytes.\n",
            "Extracting /datasets/ud730/mnist/t10k-labels-idx1-ubyte.gz\n",
            "WARNING:tensorflow:From /usr/local/lib/python3.6/dist-packages/tensorflow/contrib/learn/python/learn/datasets/mnist.py:290: DataSet.__init__ (from tensorflow.contrib.learn.python.learn.datasets.mnist) is deprecated and will be removed in a future version.\n",
            "Instructions for updating:\n",
            "Please use alternatives such as official/mnist/dataset.py from tensorflow/models.\n"
          ],
          "name": "stdout"
        }
      ]
    },
    {
      "metadata": {
        "id": "A6FYUDkOs-kR",
        "colab_type": "code",
        "colab": {}
      },
      "cell_type": "code",
      "source": [
        "#FEATURES: these images are already scaled and shuffled\n",
        "train_features = mnist_data.train.images\n",
        "validation_features = mnist_data.validation.images\n",
        "test_features = mnist_data.test.images\n",
        "\n",
        "#labels\n",
        "train_labels = mnist_data.train.labels.astype(np.float32)\n",
        "validation_labels = mnist_data.validation.labels.astype(np.float32)\n",
        "test_labels = mnist_data.test.labels.astype(np.float32)"
      ],
      "execution_count": 0,
      "outputs": []
    },
    {
      "metadata": {
        "id": "hwSO1566ugzu",
        "colab_type": "code",
        "colab": {}
      },
      "cell_type": "code",
      "source": [
        "#features and labels that we will feed in batches during session\n",
        "model_input_features = tf.placeholder(tf.float32, [None, n_input])\n",
        "model_input_labels = tf.placeholder(tf.float32, [None, n_classes])\n",
        "\n",
        "#weights and biases intialization\n",
        "weights = tf.Variable(tf.random_normal([n_input, n_classes]))\n",
        "bias = tf.Variable(tf.random_normal([n_classes]))"
      ],
      "execution_count": 0,
      "outputs": []
    },
    {
      "metadata": {
        "id": "ZbHqR8AAvusm",
        "colab_type": "code",
        "colab": {}
      },
      "cell_type": "code",
      "source": [
        "#logits\n",
        "logits = tf.add(tf.matmul(model_input_features, weights), bias)\n",
        "\n",
        "#loss/cost = avg of cross entropy after softmax\n",
        "loss = tf.reduce_mean(tf.nn.softmax_cross_entropy_with_logits_v2(logits, model_input_labels))\n",
        "\n",
        "#learning rate placeholder\n",
        "learning_rate = tf.placeholder(tf.float32)\n",
        "optimizer = tf.train.GradientDescentOptimizer(learning_rate).minimize(loss)\n",
        "\n",
        "#compare logits with correct labels\n",
        "correct_predictions = tf.equal(tf.argmax(logits, 1), tf.argmax(model_input_labels, 1))\n",
        "accuracy = tf.reduce_mean(tf.cast(correct_predictions, tf.float32))"
      ],
      "execution_count": 0,
      "outputs": []
    },
    {
      "metadata": {
        "id": "FvyOXxSuxedp",
        "colab_type": "code",
        "colab": {}
      },
      "cell_type": "code",
      "source": [
        ""
      ],
      "execution_count": 0,
      "outputs": []
    },
    {
      "metadata": {
        "id": "pYhIPS-7xn8y",
        "colab_type": "code",
        "colab": {
          "base_uri": "https://localhost:8080/",
          "height": 1734
        },
        "outputId": "1e94e981-658d-48b9-f9dc-5e76e0930b9c"
      },
      "cell_type": "code",
      "source": [
        "BATCH_SIZE = 128\n",
        "LEARNING_RATE = 0.001\n",
        "EPOCHS = 100\n",
        "n_examples = len(train_features)\n",
        "\n",
        "init = tf.global_variables_initializer()\n",
        "with tf.Session() as session:\n",
        "  #intialize all variable tensors\n",
        "  session.run(init)\n",
        "  \n",
        "\n",
        "  for epoch in range(EPOCHS):\n",
        "  #TODO: shuffle data here\n",
        "    for batch in range(0, n_examples, BATCH_SIZE):\n",
        "      x_train, y_train = train_features[batch:batch+BATCH_SIZE], train_labels[batch:batch+BATCH_SIZE]\n",
        "\n",
        "      #run minimizer\n",
        "      session.run(optimizer, feed_dict = {model_input_features: x_train, model_input_labels: y_train, learning_rate: LEARNING_RATE})\n",
        "\n",
        "    validation_accuracy = session.run(accuracy, \n",
        "                                  feed_dict = {model_input_features: validation_features, \n",
        "                                               model_input_labels: validation_labels, \n",
        "                                               learning_rate: LEARNING_RATE})\n",
        "    print(\"Epoch: %d, validation accuracy %f\" % (epoch, validation_accuracy))\n",
        "    \n",
        "  test_accuracy = session.run(accuracy,\n",
        "                             feed_dict = {model_input_features: test_features, \n",
        "                                               model_input_labels: test_labels, \n",
        "                                               learning_rate: LEARNING_RATE})\n",
        "  print(\"Test accuracy: {}\".format(test_accuracy))\n",
        "      \n",
        "     "
      ],
      "execution_count": 54,
      "outputs": [
        {
          "output_type": "stream",
          "text": [
            "Epoch: 0, validation accuracy 0.079000\n",
            "Epoch: 1, validation accuracy 0.088000\n",
            "Epoch: 2, validation accuracy 0.095000\n",
            "Epoch: 3, validation accuracy 0.104600\n",
            "Epoch: 4, validation accuracy 0.116000\n",
            "Epoch: 5, validation accuracy 0.129600\n",
            "Epoch: 6, validation accuracy 0.142200\n",
            "Epoch: 7, validation accuracy 0.154400\n",
            "Epoch: 8, validation accuracy 0.165800\n",
            "Epoch: 9, validation accuracy 0.178200\n",
            "Epoch: 10, validation accuracy 0.192000\n",
            "Epoch: 11, validation accuracy 0.203800\n",
            "Epoch: 12, validation accuracy 0.216000\n",
            "Epoch: 13, validation accuracy 0.229000\n",
            "Epoch: 14, validation accuracy 0.241800\n",
            "Epoch: 15, validation accuracy 0.257600\n",
            "Epoch: 16, validation accuracy 0.269800\n",
            "Epoch: 17, validation accuracy 0.285800\n",
            "Epoch: 18, validation accuracy 0.301800\n",
            "Epoch: 19, validation accuracy 0.314000\n",
            "Epoch: 20, validation accuracy 0.327000\n",
            "Epoch: 21, validation accuracy 0.337800\n",
            "Epoch: 22, validation accuracy 0.347600\n",
            "Epoch: 23, validation accuracy 0.359600\n",
            "Epoch: 24, validation accuracy 0.370600\n",
            "Epoch: 25, validation accuracy 0.383800\n",
            "Epoch: 26, validation accuracy 0.393800\n",
            "Epoch: 27, validation accuracy 0.406000\n",
            "Epoch: 28, validation accuracy 0.416400\n",
            "Epoch: 29, validation accuracy 0.427200\n",
            "Epoch: 30, validation accuracy 0.432800\n",
            "Epoch: 31, validation accuracy 0.444400\n",
            "Epoch: 32, validation accuracy 0.453800\n",
            "Epoch: 33, validation accuracy 0.461800\n",
            "Epoch: 34, validation accuracy 0.471200\n",
            "Epoch: 35, validation accuracy 0.479800\n",
            "Epoch: 36, validation accuracy 0.485600\n",
            "Epoch: 37, validation accuracy 0.493000\n",
            "Epoch: 38, validation accuracy 0.498200\n",
            "Epoch: 39, validation accuracy 0.504400\n",
            "Epoch: 40, validation accuracy 0.507400\n",
            "Epoch: 41, validation accuracy 0.512600\n",
            "Epoch: 42, validation accuracy 0.518600\n",
            "Epoch: 43, validation accuracy 0.524400\n",
            "Epoch: 44, validation accuracy 0.529800\n",
            "Epoch: 45, validation accuracy 0.534000\n",
            "Epoch: 46, validation accuracy 0.538600\n",
            "Epoch: 47, validation accuracy 0.542600\n",
            "Epoch: 48, validation accuracy 0.546400\n",
            "Epoch: 49, validation accuracy 0.551000\n",
            "Epoch: 50, validation accuracy 0.554000\n",
            "Epoch: 51, validation accuracy 0.556400\n",
            "Epoch: 52, validation accuracy 0.559200\n",
            "Epoch: 53, validation accuracy 0.563400\n",
            "Epoch: 54, validation accuracy 0.568600\n",
            "Epoch: 55, validation accuracy 0.571200\n",
            "Epoch: 56, validation accuracy 0.574400\n",
            "Epoch: 57, validation accuracy 0.575800\n",
            "Epoch: 58, validation accuracy 0.578600\n",
            "Epoch: 59, validation accuracy 0.580200\n",
            "Epoch: 60, validation accuracy 0.583600\n",
            "Epoch: 61, validation accuracy 0.585200\n",
            "Epoch: 62, validation accuracy 0.587200\n",
            "Epoch: 63, validation accuracy 0.588800\n",
            "Epoch: 64, validation accuracy 0.591000\n",
            "Epoch: 65, validation accuracy 0.593400\n",
            "Epoch: 66, validation accuracy 0.595000\n",
            "Epoch: 67, validation accuracy 0.597400\n",
            "Epoch: 68, validation accuracy 0.599000\n",
            "Epoch: 69, validation accuracy 0.600800\n",
            "Epoch: 70, validation accuracy 0.602400\n",
            "Epoch: 71, validation accuracy 0.603200\n",
            "Epoch: 72, validation accuracy 0.604600\n",
            "Epoch: 73, validation accuracy 0.607600\n",
            "Epoch: 74, validation accuracy 0.609400\n",
            "Epoch: 75, validation accuracy 0.612000\n",
            "Epoch: 76, validation accuracy 0.612600\n",
            "Epoch: 77, validation accuracy 0.614400\n",
            "Epoch: 78, validation accuracy 0.616600\n",
            "Epoch: 79, validation accuracy 0.618600\n",
            "Epoch: 80, validation accuracy 0.620200\n",
            "Epoch: 81, validation accuracy 0.621800\n",
            "Epoch: 82, validation accuracy 0.624000\n",
            "Epoch: 83, validation accuracy 0.624400\n",
            "Epoch: 84, validation accuracy 0.625400\n",
            "Epoch: 85, validation accuracy 0.627200\n",
            "Epoch: 86, validation accuracy 0.627800\n",
            "Epoch: 87, validation accuracy 0.629400\n",
            "Epoch: 88, validation accuracy 0.630800\n",
            "Epoch: 89, validation accuracy 0.631000\n",
            "Epoch: 90, validation accuracy 0.631800\n",
            "Epoch: 91, validation accuracy 0.632800\n",
            "Epoch: 92, validation accuracy 0.633200\n",
            "Epoch: 93, validation accuracy 0.633600\n",
            "Epoch: 94, validation accuracy 0.634400\n",
            "Epoch: 95, validation accuracy 0.635600\n",
            "Epoch: 96, validation accuracy 0.637000\n",
            "Epoch: 97, validation accuracy 0.638000\n",
            "Epoch: 98, validation accuracy 0.638400\n",
            "Epoch: 99, validation accuracy 0.639200\n",
            "Test accuracy: 0.640999972820282\n"
          ],
          "name": "stdout"
        }
      ]
    }
  ]
}