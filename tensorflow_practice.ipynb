{
  "nbformat": 4,
  "nbformat_minor": 0,
  "metadata": {
    "colab": {
      "name": "tensorflow-practice.ipynb",
      "version": "0.3.2",
      "provenance": [],
      "collapsed_sections": [],
      "include_colab_link": true
    },
    "kernelspec": {
      "name": "python3",
      "display_name": "Python 3"
    }
  },
  "cells": [
    {
      "cell_type": "markdown",
      "metadata": {
        "id": "view-in-github",
        "colab_type": "text"
      },
      "source": [
        "<a href=\"https://colab.research.google.com/github/informramiz/google-colab-ml-cv/blob/master/tensorflow_practice.ipynb\" target=\"_parent\"><img src=\"https://colab.research.google.com/assets/colab-badge.svg\" alt=\"Open In Colab\"/></a>"
      ]
    },
    {
      "metadata": {
        "id": "-tEu44D6DXs9",
        "colab_type": "code",
        "colab": {}
      },
      "cell_type": "code",
      "source": [
        "import tensorflow as tf"
      ],
      "execution_count": 0,
      "outputs": []
    },
    {
      "metadata": {
        "id": "t6Fjk0GPEVOp",
        "colab_type": "code",
        "colab": {
          "base_uri": "https://localhost:8080/",
          "height": 34
        },
        "outputId": "82324393-1115-410d-9413-a8696f2267d3"
      },
      "cell_type": "code",
      "source": [
        "constant = tf.constant(\"hello\")\n",
        "\n",
        "with tf.Session() as session:\n",
        "  output = session.run(constant)\n",
        "  print(output)"
      ],
      "execution_count": 2,
      "outputs": [
        {
          "output_type": "stream",
          "text": [
            "b'hello'\n"
          ],
          "name": "stdout"
        }
      ]
    },
    {
      "metadata": {
        "id": "smnKJyiGFrvd",
        "colab_type": "text"
      },
      "cell_type": "markdown",
      "source": [
        "**Feeding Data**"
      ]
    },
    {
      "metadata": {
        "id": "btjeZVbvFwRU",
        "colab_type": "code",
        "colab": {}
      },
      "cell_type": "code",
      "source": [
        "x = tf.placeholder(tf.string)\n",
        "y = tf.placeholder(tf.int32)\n",
        "z = tf.placeholder(tf.float32)\n",
        "\n",
        "with tf.Session() as session:\n",
        "  ouput = session.run(x, feed_dict = {x: \"hello\", y: 4, z: 4.7})"
      ],
      "execution_count": 0,
      "outputs": []
    },
    {
      "metadata": {
        "id": "pwK5kRFBGpTe",
        "colab_type": "text"
      },
      "cell_type": "markdown",
      "source": [
        "**Math**"
      ]
    },
    {
      "metadata": {
        "id": "5Lh4BCnAGv6D",
        "colab_type": "code",
        "colab": {
          "base_uri": "https://localhost:8080/",
          "height": 51
        },
        "outputId": "02494263-96a0-414f-8f79-74da1857e82c"
      },
      "cell_type": "code",
      "source": [
        "sub = tf.subtract(z , tf.cast(y, tf.float32))\n",
        "add = tf.add(z, tf.cast(y, tf.float32))\n",
        "with tf.Session() as session:\n",
        "  input1 = {x: \"hello\", y: 4, z: 4.7}\n",
        "  output = session.run(sub, feed_dict = input1)\n",
        "  print(output)\n",
        "  output = session.run(add, feed_dict = input1)\n",
        "  print(output)\n",
        "  "
      ],
      "execution_count": 11,
      "outputs": [
        {
          "output_type": "stream",
          "text": [
            "0.6999998\n",
            "8.7\n"
          ],
          "name": "stdout"
        }
      ]
    },
    {
      "metadata": {
        "id": "fPu__eB3MNpq",
        "colab_type": "text"
      },
      "cell_type": "markdown",
      "source": [
        "**Simple Linear Function**"
      ]
    },
    {
      "metadata": {
        "id": "GpwfWZJzMR5-",
        "colab_type": "code",
        "colab": {
          "base_uri": "https://localhost:8080/",
          "height": 34
        },
        "outputId": "e79341e4-236c-450c-881d-535f55528296"
      },
      "cell_type": "code",
      "source": [
        "n_features = 5\n",
        "n_labels = 2\n",
        "\n",
        "features = tf.Variable(tf.truncated_normal((1, n_features)))\n",
        "weights = tf.Variable(tf.truncated_normal((n_features, n_labels)))\n",
        "bias = tf.Variable(tf.zeros(n_labels))\n",
        "\n",
        "logits = tf.add(tf.matmul(features, weights), bias)\n",
        "probs = tf.nn.softmax(logits)\n",
        "\n",
        "init = tf.global_variables_initializer()\n",
        "with tf.Session() as session:\n",
        "  session.run(init)\n",
        "  output = session.run(probs)\n",
        "  print(output)"
      ],
      "execution_count": 25,
      "outputs": [
        {
          "output_type": "stream",
          "text": [
            "[[0.99840885 0.00159113]]\n"
          ],
          "name": "stdout"
        }
      ]
    }
  ]
}